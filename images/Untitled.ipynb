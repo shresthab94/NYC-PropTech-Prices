{
 "cells": [
  {
   "cell_type": "code",
   "execution_count": 1,
   "id": "98108118-953b-4ef1-933a-624a79644678",
   "metadata": {},
   "outputs": [],
   "source": [
    "import os"
   ]
  },
  {
   "cell_type": "code",
   "execution_count": 2,
   "id": "1be9ce1e-33ce-442c-bf26-3b348a988e82",
   "metadata": {},
   "outputs": [
    {
     "data": {
      "text/plain": [
       "'root'"
      ]
     },
     "execution_count": 2,
     "metadata": {},
     "output_type": "execute_result"
    }
   ],
   "source": [
    "os.getlogin()"
   ]
  },
  {
   "cell_type": "code",
   "execution_count": 4,
   "id": "236e3c3b-4359-4b4a-a662-332373253818",
   "metadata": {},
   "outputs": [
    {
     "ename": "TypeError",
     "evalue": "getpgid() missing required argument 'pid' (pos 1)",
     "output_type": "error",
     "traceback": [
      "\u001b[0;31m---------------------------------------------------------------------------\u001b[0m",
      "\u001b[0;31mTypeError\u001b[0m                                 Traceback (most recent call last)",
      "\u001b[0;32m/var/folders/sb/c0nmbv3s3psgb5fnp0s1g89m0000gn/T/ipykernel_2459/68143514.py\u001b[0m in \u001b[0;36m<module>\u001b[0;34m\u001b[0m\n\u001b[0;32m----> 1\u001b[0;31m \u001b[0mos\u001b[0m\u001b[0;34m.\u001b[0m\u001b[0mgetpgid\u001b[0m\u001b[0;34m(\u001b[0m\u001b[0;34m)\u001b[0m\u001b[0;34m\u001b[0m\u001b[0;34m\u001b[0m\u001b[0m\n\u001b[0m",
      "\u001b[0;31mTypeError\u001b[0m: getpgid() missing required argument 'pid' (pos 1)"
     ]
    }
   ],
   "source": [
    "os.getpgid()"
   ]
  },
  {
   "cell_type": "code",
   "execution_count": 5,
   "id": "d8139721-0c7d-45f2-87e8-51067a7087fc",
   "metadata": {},
   "outputs": [
    {
     "ename": "NameError",
     "evalue": "name 'sysname' is not defined",
     "output_type": "error",
     "traceback": [
      "\u001b[0;31m---------------------------------------------------------------------------\u001b[0m",
      "\u001b[0;31mNameError\u001b[0m                                 Traceback (most recent call last)",
      "\u001b[0;32m/var/folders/sb/c0nmbv3s3psgb5fnp0s1g89m0000gn/T/ipykernel_2459/3846611184.py\u001b[0m in \u001b[0;36m<module>\u001b[0;34m\u001b[0m\n\u001b[0;32m----> 1\u001b[0;31m \u001b[0mos\u001b[0m\u001b[0;34m.\u001b[0m\u001b[0muname\u001b[0m\u001b[0;34m(\u001b[0m\u001b[0msysname\u001b[0m\u001b[0;34m)\u001b[0m\u001b[0;34m\u001b[0m\u001b[0;34m\u001b[0m\u001b[0m\n\u001b[0m",
      "\u001b[0;31mNameError\u001b[0m: name 'sysname' is not defined"
     ]
    }
   ],
   "source": [
    "os.uname(sysname)"
   ]
  },
  {
   "cell_type": "code",
   "execution_count": null,
   "id": "70bf385f-d5dd-4fcf-bf9b-5dc6639cdd2c",
   "metadata": {},
   "outputs": [],
   "source": []
  }
 ],
 "metadata": {
  "kernelspec": {
   "display_name": "Python 3 (ipykernel)",
   "language": "python",
   "name": "python3"
  },
  "language_info": {
   "codemirror_mode": {
    "name": "ipython",
    "version": 3
   },
   "file_extension": ".py",
   "mimetype": "text/x-python",
   "name": "python",
   "nbconvert_exporter": "python",
   "pygments_lexer": "ipython3",
   "version": "3.7.11"
  }
 },
 "nbformat": 4,
 "nbformat_minor": 5
}
